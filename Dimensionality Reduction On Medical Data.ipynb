{
 "cells": [
  {
   "cell_type": "markdown",
   "metadata": {},
   "source": [
    "# Research Question\n",
    "\n",
    "We want to answer the question: Which variables in our dataset contribute mose to the variability of the data? The endgoal of such an analysis is to reduce our data to only the principle components in order to make future analysis more eficient. "
   ]
  },
  {
   "cell_type": "markdown",
   "metadata": {},
   "source": [
    "# Method Justification\n",
    "\n",
    "We will be using Principal Components Analysis (PCA) to achieve our goal. PCA works by combining multiple numeric predictor variable into a smaller set of variables, which are weighted combinations of the original set. This smaller set, called the *principle components*, explains most of the variability of the full set of variables. This reduces the dimension of the data. [1] We expect the outcome of our PCA to be a reduction of data into a smaller set of variables to use for further analysis.\n",
    "\n",
    "PCA assumes that the data is continuous."
   ]
  },
  {
   "cell_type": "markdown",
   "metadata": {},
   "source": [
    "# Data Preparation\n",
    "\n",
    "The continuous variables in our dataset are:\n",
    "\n",
    "- ``Population``\n",
    "- ``Children``\n",
    "- ``Age``\n",
    "- ``Income``\n",
    "- ``Doc_visits``\n",
    "- ``Full_meals_eaten``\n",
    "- ``Initial_days``\n",
    "- ``TotalCharge``\n",
    "- ``Additional_charges``\n",
    "\n",
    "We will now import our data and select only these variables."
   ]
  },
  {
   "cell_type": "code",
   "execution_count": 58,
   "metadata": {},
   "outputs": [
    {
     "data": {
      "text/html": [
       "<div>\n",
       "<style scoped>\n",
       "    .dataframe tbody tr th:only-of-type {\n",
       "        vertical-align: middle;\n",
       "    }\n",
       "\n",
       "    .dataframe tbody tr th {\n",
       "        vertical-align: top;\n",
       "    }\n",
       "\n",
       "    .dataframe thead th {\n",
       "        text-align: right;\n",
       "    }\n",
       "</style>\n",
       "<table border=\"1\" class=\"dataframe\">\n",
       "  <thead>\n",
       "    <tr style=\"text-align: right;\">\n",
       "      <th></th>\n",
       "      <th>Population</th>\n",
       "      <th>Children</th>\n",
       "      <th>Age</th>\n",
       "      <th>Income</th>\n",
       "      <th>Doc_visits</th>\n",
       "      <th>Full_meals_eaten</th>\n",
       "      <th>Initial_days</th>\n",
       "      <th>TotalCharge</th>\n",
       "      <th>Additional_charges</th>\n",
       "    </tr>\n",
       "  </thead>\n",
       "  <tbody>\n",
       "    <tr>\n",
       "      <th>0</th>\n",
       "      <td>2951</td>\n",
       "      <td>1</td>\n",
       "      <td>53</td>\n",
       "      <td>86575.93</td>\n",
       "      <td>6</td>\n",
       "      <td>0</td>\n",
       "      <td>10.585770</td>\n",
       "      <td>3726.702860</td>\n",
       "      <td>17939.403420</td>\n",
       "    </tr>\n",
       "    <tr>\n",
       "      <th>1</th>\n",
       "      <td>11303</td>\n",
       "      <td>3</td>\n",
       "      <td>51</td>\n",
       "      <td>46805.99</td>\n",
       "      <td>4</td>\n",
       "      <td>2</td>\n",
       "      <td>15.129562</td>\n",
       "      <td>4193.190458</td>\n",
       "      <td>17612.998120</td>\n",
       "    </tr>\n",
       "    <tr>\n",
       "      <th>2</th>\n",
       "      <td>17125</td>\n",
       "      <td>3</td>\n",
       "      <td>53</td>\n",
       "      <td>14370.14</td>\n",
       "      <td>4</td>\n",
       "      <td>1</td>\n",
       "      <td>4.772177</td>\n",
       "      <td>2434.234222</td>\n",
       "      <td>17505.192460</td>\n",
       "    </tr>\n",
       "    <tr>\n",
       "      <th>3</th>\n",
       "      <td>2162</td>\n",
       "      <td>0</td>\n",
       "      <td>78</td>\n",
       "      <td>39741.49</td>\n",
       "      <td>4</td>\n",
       "      <td>1</td>\n",
       "      <td>1.714879</td>\n",
       "      <td>2127.830423</td>\n",
       "      <td>12993.437350</td>\n",
       "    </tr>\n",
       "    <tr>\n",
       "      <th>4</th>\n",
       "      <td>5287</td>\n",
       "      <td>1</td>\n",
       "      <td>22</td>\n",
       "      <td>1209.56</td>\n",
       "      <td>5</td>\n",
       "      <td>0</td>\n",
       "      <td>1.254807</td>\n",
       "      <td>2113.073274</td>\n",
       "      <td>3716.525786</td>\n",
       "    </tr>\n",
       "  </tbody>\n",
       "</table>\n",
       "</div>"
      ],
      "text/plain": [
       "   Population  Children  Age    Income  Doc_visits  Full_meals_eaten  \\\n",
       "0        2951         1   53  86575.93           6                 0   \n",
       "1       11303         3   51  46805.99           4                 2   \n",
       "2       17125         3   53  14370.14           4                 1   \n",
       "3        2162         0   78  39741.49           4                 1   \n",
       "4        5287         1   22   1209.56           5                 0   \n",
       "\n",
       "   Initial_days  TotalCharge  Additional_charges  \n",
       "0     10.585770  3726.702860        17939.403420  \n",
       "1     15.129562  4193.190458        17612.998120  \n",
       "2      4.772177  2434.234222        17505.192460  \n",
       "3      1.714879  2127.830423        12993.437350  \n",
       "4      1.254807  2113.073274         3716.525786  "
      ]
     },
     "execution_count": 58,
     "metadata": {},
     "output_type": "execute_result"
    }
   ],
   "source": [
    "import pandas as pd\n",
    "\n",
    "raw = pd.read_csv('data/medical_clean.csv')\n",
    "df = raw[[  'Population', 'Children', 'Age', \n",
    "            'Income', 'Doc_visits', 'Full_meals_eaten', \n",
    "            'Initial_days', 'TotalCharge', 'Additional_charges'\n",
    "        ]]\n",
    "df.head()"
   ]
  },
  {
   "cell_type": "markdown",
   "metadata": {},
   "source": [
    "Now we will normalize the data. A normalized copy of the dataset can be found in ``data/medical_norm.csv``"
   ]
  },
  {
   "cell_type": "code",
   "execution_count": 59,
   "metadata": {},
   "outputs": [
    {
     "data": {
      "text/html": [
       "<div>\n",
       "<style scoped>\n",
       "    .dataframe tbody tr th:only-of-type {\n",
       "        vertical-align: middle;\n",
       "    }\n",
       "\n",
       "    .dataframe tbody tr th {\n",
       "        vertical-align: top;\n",
       "    }\n",
       "\n",
       "    .dataframe thead th {\n",
       "        text-align: right;\n",
       "    }\n",
       "</style>\n",
       "<table border=\"1\" class=\"dataframe\">\n",
       "  <thead>\n",
       "    <tr style=\"text-align: right;\">\n",
       "      <th></th>\n",
       "      <th>Population</th>\n",
       "      <th>Children</th>\n",
       "      <th>Age</th>\n",
       "      <th>Income</th>\n",
       "      <th>Doc_visits</th>\n",
       "      <th>Full_meals_eaten</th>\n",
       "      <th>Initial_days</th>\n",
       "      <th>TotalCharge</th>\n",
       "      <th>Additional_charges</th>\n",
       "    </tr>\n",
       "  </thead>\n",
       "  <tbody>\n",
       "    <tr>\n",
       "      <th>0</th>\n",
       "      <td>-0.473145</td>\n",
       "      <td>-0.507104</td>\n",
       "      <td>-0.024793</td>\n",
       "      <td>1.615833</td>\n",
       "      <td>0.944599</td>\n",
       "      <td>-0.993337</td>\n",
       "      <td>-0.907264</td>\n",
       "      <td>-0.727148</td>\n",
       "      <td>0.764967</td>\n",
       "    </tr>\n",
       "    <tr>\n",
       "      <th>1</th>\n",
       "      <td>0.090237</td>\n",
       "      <td>0.417256</td>\n",
       "      <td>-0.121700</td>\n",
       "      <td>0.221432</td>\n",
       "      <td>-0.967932</td>\n",
       "      <td>0.990560</td>\n",
       "      <td>-0.734558</td>\n",
       "      <td>-0.513202</td>\n",
       "      <td>0.715078</td>\n",
       "    </tr>\n",
       "    <tr>\n",
       "      <th>2</th>\n",
       "      <td>0.482959</td>\n",
       "      <td>0.417256</td>\n",
       "      <td>-0.024793</td>\n",
       "      <td>-0.915824</td>\n",
       "      <td>-0.967932</td>\n",
       "      <td>-0.001389</td>\n",
       "      <td>-1.128235</td>\n",
       "      <td>-1.319917</td>\n",
       "      <td>0.698600</td>\n",
       "    </tr>\n",
       "    <tr>\n",
       "      <th>3</th>\n",
       "      <td>-0.526366</td>\n",
       "      <td>-0.969284</td>\n",
       "      <td>1.186533</td>\n",
       "      <td>-0.026261</td>\n",
       "      <td>-0.967932</td>\n",
       "      <td>-0.001389</td>\n",
       "      <td>-1.244441</td>\n",
       "      <td>-1.460444</td>\n",
       "      <td>0.009004</td>\n",
       "    </tr>\n",
       "    <tr>\n",
       "      <th>4</th>\n",
       "      <td>-0.315570</td>\n",
       "      <td>-0.507104</td>\n",
       "      <td>-1.526838</td>\n",
       "      <td>-1.377256</td>\n",
       "      <td>-0.011666</td>\n",
       "      <td>-0.993337</td>\n",
       "      <td>-1.261928</td>\n",
       "      <td>-1.467212</td>\n",
       "      <td>-1.408920</td>\n",
       "    </tr>\n",
       "  </tbody>\n",
       "</table>\n",
       "</div>"
      ],
      "text/plain": [
       "   Population  Children       Age    Income  Doc_visits  Full_meals_eaten  \\\n",
       "0   -0.473145 -0.507104 -0.024793  1.615833    0.944599         -0.993337   \n",
       "1    0.090237  0.417256 -0.121700  0.221432   -0.967932          0.990560   \n",
       "2    0.482959  0.417256 -0.024793 -0.915824   -0.967932         -0.001389   \n",
       "3   -0.526366 -0.969284  1.186533 -0.026261   -0.967932         -0.001389   \n",
       "4   -0.315570 -0.507104 -1.526838 -1.377256   -0.011666         -0.993337   \n",
       "\n",
       "   Initial_days  TotalCharge  Additional_charges  \n",
       "0     -0.907264    -0.727148            0.764967  \n",
       "1     -0.734558    -0.513202            0.715078  \n",
       "2     -1.128235    -1.319917            0.698600  \n",
       "3     -1.244441    -1.460444            0.009004  \n",
       "4     -1.261928    -1.467212           -1.408920  "
      ]
     },
     "execution_count": 59,
     "metadata": {},
     "output_type": "execute_result"
    }
   ],
   "source": [
    "df = (df - df.mean()) / df.std()\n",
    "df.to_csv('data/medical_norm.csv')\n",
    "df.head()"
   ]
  },
  {
   "cell_type": "markdown",
   "metadata": {},
   "source": [
    "# Analysis\n",
    "\n",
    "## Matrix \n",
    "\n",
    "First we run our PCA and generate a PCA matrix."
   ]
  },
  {
   "cell_type": "code",
   "execution_count": 60,
   "metadata": {},
   "outputs": [
    {
     "data": {
      "text/html": [
       "<div>\n",
       "<style scoped>\n",
       "    .dataframe tbody tr th:only-of-type {\n",
       "        vertical-align: middle;\n",
       "    }\n",
       "\n",
       "    .dataframe tbody tr th {\n",
       "        vertical-align: top;\n",
       "    }\n",
       "\n",
       "    .dataframe thead th {\n",
       "        text-align: right;\n",
       "    }\n",
       "</style>\n",
       "<table border=\"1\" class=\"dataframe\">\n",
       "  <thead>\n",
       "    <tr style=\"text-align: right;\">\n",
       "      <th></th>\n",
       "      <th>PC1</th>\n",
       "      <th>PC2</th>\n",
       "      <th>PC3</th>\n",
       "      <th>PC4</th>\n",
       "      <th>PC5</th>\n",
       "      <th>PC6</th>\n",
       "      <th>PC7</th>\n",
       "      <th>PC8</th>\n",
       "      <th>PC9</th>\n",
       "    </tr>\n",
       "    <tr>\n",
       "      <th>variable</th>\n",
       "      <th></th>\n",
       "      <th></th>\n",
       "      <th></th>\n",
       "      <th></th>\n",
       "      <th></th>\n",
       "      <th></th>\n",
       "      <th></th>\n",
       "      <th></th>\n",
       "      <th></th>\n",
       "    </tr>\n",
       "  </thead>\n",
       "  <tbody>\n",
       "    <tr>\n",
       "      <th>Population</th>\n",
       "      <td>0.024233</td>\n",
       "      <td>-0.028612</td>\n",
       "      <td>0.581358</td>\n",
       "      <td>-0.243730</td>\n",
       "      <td>0.227238</td>\n",
       "      <td>0.448277</td>\n",
       "      <td>0.590267</td>\n",
       "      <td>0.014383</td>\n",
       "      <td>-0.000941</td>\n",
       "    </tr>\n",
       "    <tr>\n",
       "      <th>Children</th>\n",
       "      <td>0.034673</td>\n",
       "      <td>0.017303</td>\n",
       "      <td>0.037514</td>\n",
       "      <td>0.704442</td>\n",
       "      <td>0.552531</td>\n",
       "      <td>0.370751</td>\n",
       "      <td>-0.241023</td>\n",
       "      <td>0.003594</td>\n",
       "      <td>-0.000934</td>\n",
       "    </tr>\n",
       "    <tr>\n",
       "      <th>Age</th>\n",
       "      <td>0.084288</td>\n",
       "      <td>0.701083</td>\n",
       "      <td>0.020617</td>\n",
       "      <td>-0.019588</td>\n",
       "      <td>0.008044</td>\n",
       "      <td>-0.024126</td>\n",
       "      <td>0.000180</td>\n",
       "      <td>0.706566</td>\n",
       "      <td>0.026228</td>\n",
       "    </tr>\n",
       "    <tr>\n",
       "      <th>Income</th>\n",
       "      <td>-0.020259</td>\n",
       "      <td>-0.018756</td>\n",
       "      <td>0.424780</td>\n",
       "      <td>0.524912</td>\n",
       "      <td>-0.116638</td>\n",
       "      <td>-0.646528</td>\n",
       "      <td>0.334152</td>\n",
       "      <td>0.002302</td>\n",
       "      <td>0.001314</td>\n",
       "    </tr>\n",
       "    <tr>\n",
       "      <th>Doc_visits</th>\n",
       "      <td>-0.007035</td>\n",
       "      <td>0.015045</td>\n",
       "      <td>0.420300</td>\n",
       "      <td>0.207994</td>\n",
       "      <td>-0.709498</td>\n",
       "      <td>0.391319</td>\n",
       "      <td>-0.351127</td>\n",
       "      <td>0.000982</td>\n",
       "      <td>-0.001118</td>\n",
       "    </tr>\n",
       "    <tr>\n",
       "      <th>Full_meals_eaten</th>\n",
       "      <td>-0.020177</td>\n",
       "      <td>0.031891</td>\n",
       "      <td>-0.549588</td>\n",
       "      <td>0.353525</td>\n",
       "      <td>-0.352513</td>\n",
       "      <td>0.298534</td>\n",
       "      <td>0.598367</td>\n",
       "      <td>0.010717</td>\n",
       "      <td>-0.001652</td>\n",
       "    </tr>\n",
       "    <tr>\n",
       "      <th>Initial_days</th>\n",
       "      <td>0.700538</td>\n",
       "      <td>-0.089416</td>\n",
       "      <td>-0.013473</td>\n",
       "      <td>0.002107</td>\n",
       "      <td>-0.028657</td>\n",
       "      <td>-0.019910</td>\n",
       "      <td>0.005306</td>\n",
       "      <td>0.031468</td>\n",
       "      <td>-0.706279</td>\n",
       "    </tr>\n",
       "    <tr>\n",
       "      <th>TotalCharge</th>\n",
       "      <td>0.701657</td>\n",
       "      <td>-0.078853</td>\n",
       "      <td>-0.013454</td>\n",
       "      <td>0.002910</td>\n",
       "      <td>-0.029187</td>\n",
       "      <td>-0.015939</td>\n",
       "      <td>0.007057</td>\n",
       "      <td>-0.031428</td>\n",
       "      <td>0.706489</td>\n",
       "    </tr>\n",
       "    <tr>\n",
       "      <th>Additional_charges</th>\n",
       "      <td>0.084633</td>\n",
       "      <td>0.701111</td>\n",
       "      <td>0.026294</td>\n",
       "      <td>-0.013650</td>\n",
       "      <td>0.008796</td>\n",
       "      <td>-0.010335</td>\n",
       "      <td>0.020584</td>\n",
       "      <td>-0.706007</td>\n",
       "      <td>-0.036726</td>\n",
       "    </tr>\n",
       "  </tbody>\n",
       "</table>\n",
       "</div>"
      ],
      "text/plain": [
       "                         PC1       PC2       PC3       PC4       PC5  \\\n",
       "variable                                                               \n",
       "Population          0.024233 -0.028612  0.581358 -0.243730  0.227238   \n",
       "Children            0.034673  0.017303  0.037514  0.704442  0.552531   \n",
       "Age                 0.084288  0.701083  0.020617 -0.019588  0.008044   \n",
       "Income             -0.020259 -0.018756  0.424780  0.524912 -0.116638   \n",
       "Doc_visits         -0.007035  0.015045  0.420300  0.207994 -0.709498   \n",
       "Full_meals_eaten   -0.020177  0.031891 -0.549588  0.353525 -0.352513   \n",
       "Initial_days        0.700538 -0.089416 -0.013473  0.002107 -0.028657   \n",
       "TotalCharge         0.701657 -0.078853 -0.013454  0.002910 -0.029187   \n",
       "Additional_charges  0.084633  0.701111  0.026294 -0.013650  0.008796   \n",
       "\n",
       "                         PC6       PC7       PC8       PC9  \n",
       "variable                                                    \n",
       "Population          0.448277  0.590267  0.014383 -0.000941  \n",
       "Children            0.370751 -0.241023  0.003594 -0.000934  \n",
       "Age                -0.024126  0.000180  0.706566  0.026228  \n",
       "Income             -0.646528  0.334152  0.002302  0.001314  \n",
       "Doc_visits          0.391319 -0.351127  0.000982 -0.001118  \n",
       "Full_meals_eaten    0.298534  0.598367  0.010717 -0.001652  \n",
       "Initial_days       -0.019910  0.005306  0.031468 -0.706279  \n",
       "TotalCharge        -0.015939  0.007057 -0.031428  0.706489  \n",
       "Additional_charges -0.010335  0.020584 -0.706007 -0.036726  "
      ]
     },
     "execution_count": 60,
     "metadata": {},
     "output_type": "execute_result"
    }
   ],
   "source": [
    "from sklearn.decomposition import PCA\n",
    "\n",
    "pca = PCA(n_components=df.shape[1])\n",
    "pca.fit(df)\n",
    "\n",
    "loadings = pca.components_\n",
    "num_pc = pca.n_features_\n",
    "pc_list = [\"PC\"+str(i) for i in list(range(1, num_pc+1))]\n",
    "loadings_df = pd.DataFrame.from_dict(dict(zip(pc_list, loadings)))\n",
    "loadings_df['variable'] = df.columns.values\n",
    "loadings_df = loadings_df.set_index('variable')\n",
    "loadings_df"
   ]
  },
  {
   "cell_type": "code",
   "execution_count": 61,
   "metadata": {},
   "outputs": [
    {
     "data": {
      "image/png": "[encoded data removed]",
      "text/plain": [
       "<Figure size 288x288 with 1 Axes>"
      ]
     },
     "metadata": {
      "needs_background": "light"
     },
     "output_type": "display_data"
    }
   ],
   "source": [
    "import matplotlib.pyplot as plt\n",
    "\n",
    "explained_variance = pd.DataFrame(pca.explained_variance_ratio_)\n",
    "ax = explained_variance.head(10).plot.bar(legend=False, figsize=(4, 4))\n",
    "ax.set_xlabel('Principal Component')\n",
    "\n",
    "plt.show()"
   ]
  },
  {
   "cell_type": "markdown",
   "metadata": {},
   "source": [
    "## Elbow Rule\n",
    "\n",
    "We will generate a bar graph of the explained variance of the PCs and look for an \"elbow\" in the data. That is, a point where the explained variance drops dramatically."
   ]
  },
  {
   "cell_type": "code",
   "execution_count": 62,
   "metadata": {},
   "outputs": [
    {
     "data": {
      "image/png": "[encoded data removed]",
      "text/plain": [
       "<Figure size 432x288 with 1 Axes>"
      ]
     },
     "metadata": {
      "needs_background": "light"
     },
     "output_type": "display_data"
    }
   ],
   "source": [
    "plt.plot(pca.explained_variance_ratio_)\n",
    "plt.xlabel('Principal Component')\n",
    "plt.ylabel('Explained Variance')\n",
    "plt.show()"
   ]
  },
  {
   "cell_type": "markdown",
   "metadata": {},
   "source": [
    "## Variance of all PCs"
   ]
  },
  {
   "cell_type": "code",
   "execution_count": 63,
   "metadata": {},
   "outputs": [
    {
     "name": "stdout",
     "output_type": "stream",
     "text": [
      "[0.22159446 0.19053248 0.1150816  0.11170826 0.11087941 0.10976332\n",
      " 0.10764419 0.03149445 0.00130182]\n"
     ]
    }
   ],
   "source": [
    "print(pca.explained_variance_ratio_)"
   ]
  },
  {
   "cell_type": "markdown",
   "metadata": {},
   "source": [
    "## Total Variance"
   ]
  },
  {
   "cell_type": "code",
   "execution_count": 64,
   "metadata": {},
   "outputs": [
    {
     "name": "stdout",
     "output_type": "stream",
     "text": [
      "[0.22159446 0.41212695 0.52720855 0.63891681 0.74979622 0.85955954\n",
      " 0.96720373 0.99869818 1.        ]\n"
     ]
    }
   ],
   "source": [
    "print(pca.explained_variance_ratio_.cumsum())"
   ]
  },
  {
   "cell_type": "markdown",
   "metadata": {},
   "source": [
    "## Results\n",
    "\n",
    "Looking at our scree-plot above we can see the \"elbow\" at x=2, or the 3rd PC. This indicates that the first 3 components account for most of the variation. PC1 is 22%, PC2 is 19%, and PC3 is 11% for a total of about 52%. Using these three components would yield reasonably decent results, though the variance explained may be too low for some use cases. "
   ]
  },
  {
   "cell_type": "markdown",
   "metadata": {},
   "source": [
    "# Bibliography\n",
    "\n",
    "[1] Peter Bruce, Andrew Bruce, Peter Gedeck. *Practical Statistics for Data Scientists*. O'Reilly Media, Inc., 2020. Page 295. "
   ]
  }
 ],
 "metadata": {
  "interpreter": {
   "hash": "fac8233eee01cba665038679e8f3e7bc03a2c64d95f3d71ed9b9a709bca0eec0"
  },
  "kernelspec": {
   "display_name": "Python 3.8.5 ('env': venv)",
   "language": "python",
   "name": "python3"
  },
  "language_info": {
   "codemirror_mode": {
    "name": "ipython",
    "version": 3
   },
   "file_extension": ".py",
   "mimetype": "text/x-python",
   "name": "python",
   "nbconvert_exporter": "python",
   "pygments_lexer": "ipython3",
   "version": "3.8.5"
  },
  "orig_nbformat": 4
 },
 "nbformat": 4,
 "nbformat_minor": 2
}
